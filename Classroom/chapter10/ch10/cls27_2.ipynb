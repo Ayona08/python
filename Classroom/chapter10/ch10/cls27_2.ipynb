{
 "cells": [
  {
   "cell_type": "code",
   "execution_count": 1,
   "id": "38fb6c60-6afa-4d59-9d5d-684eb96377ed",
   "metadata": {},
   "outputs": [
    {
     "name": "stdout",
     "output_type": "stream",
     "text": [
      "Program is running....... \n",
      "SystemExit is Caught\n"
     ]
    }
   ],
   "source": [
    "import sys\n",
    "try :\n",
    "    print(\"Program is running....... \")\n",
    "    sys.exit()\n",
    "except SystemExit:\n",
    "    print(\"SystemExit is Caught\")"
   ]
  },
  {
   "cell_type": "code",
   "execution_count": null,
   "id": "a10a6a96-2b97-4cb2-900a-618a240d1907",
   "metadata": {},
   "outputs": [],
   "source": [
    "try:\n",
    "    while True:\n",
    "        print(\"Program is running... Press Ctrl + C to exit.\")\n",
    "except KeyboardInterrupt:\n",
    "    print(\"\\nKeyboardInterrupt exception is caught. Exiting the program.\")"
   ]
  },
  {
   "cell_type": "code",
   "execution_count": null,
   "id": "041740da-919c-458b-a936-9392bebf03f9",
   "metadata": {},
   "outputs": [],
   "source": [
    "def gen():\n",
    "    try:\n",
    "        for i in range(10):\n",
    "            yield i\n",
    "    except GeneratorExit:\n",
    "        print(\"GeneratorExit exception caught\")\n",
    "\n",
    "\n",
    "\n",
    "\n",
    "\n",
    "g = gen()\n",
    "print(next(g))  \n",
    "g.close() \n"
   ]
  },
  {
   "cell_type": "code",
   "execution_count": null,
   "id": "49a14c20-b9f1-4baa-8b54-5998c486174e",
   "metadata": {},
   "outputs": [],
   "source": [
    "from dataclasses import dataclass\n",
    "\n",
    "@dataclass\n",
    "class Point:\n",
    "    x: float\n",
    "    y: float\n",
    "\n",
    "\n",
    "p1 = Point(2, 4)\n",
    "p2 = Point(2, 4)\n",
    "\n",
    "\n",
    "print(p1 == p2)\n"
   ]
  },
  {
   "cell_type": "code",
   "execution_count": null,
   "id": "6eb5863a-2432-4683-bc37-c512590b3ee6",
   "metadata": {},
   "outputs": [],
   "source": []
  }
 ],
 "metadata": {
  "kernelspec": {
   "display_name": "Python 3 (ipykernel)",
   "language": "python",
   "name": "python3"
  },
  "language_info": {
   "codemirror_mode": {
    "name": "ipython",
    "version": 3
   },
   "file_extension": ".py",
   "mimetype": "text/x-python",
   "name": "python",
   "nbconvert_exporter": "python",
   "pygments_lexer": "ipython3",
   "version": "3.11.7"
  }
 },
 "nbformat": 4,
 "nbformat_minor": 5
}

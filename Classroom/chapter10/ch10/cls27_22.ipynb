{
 "cells": [
  {
   "cell_type": "code",
   "execution_count": 1,
   "id": "d4f0ce48-5251-4f12-88c9-ef5b7efb74cd",
   "metadata": {},
   "outputs": [
    {
     "name": "stdout",
     "output_type": "stream",
     "text": [
      "True\n"
     ]
    }
   ],
   "source": [
    "from dataclasses import dataclass\n",
    "\n",
    "@dataclass\n",
    "class Point:\n",
    "    x: float\n",
    "    y: float\n",
    "p1 = Point(2, 4)\n",
    "p2 = Point(2, 4)\n",
    "print(p1 == p2)  \n"
   ]
  },
  {
   "cell_type": "code",
   "execution_count": 4,
   "id": "0d35a103-316a-4cbc-b655-4734332f7dec",
   "metadata": {},
   "outputs": [
    {
     "name": "stdout",
     "output_type": "stream",
     "text": [
      "Person(name='mrutyunjaya', salary='Mechanical')\n"
     ]
    }
   ],
   "source": [
    "from dataclasses import dataclass,field\n",
    "\n",
    "@dataclass\n",
    "class Person:\n",
    "    name: str\n",
    "    salary: float=field(default =5000)\n",
    "    department: str =field(default ='IT' ,repr=False)\n",
    "\n",
    "p1=Person(\"mrutyunjaya\",\"Electrical\")\n",
    "\n",
    "print(p1)  "
   ]
  },
  {
   "cell_type": "code",
   "execution_count": 5,
   "id": "fb87014a-4e65-4f14-879b-80fe4c808535",
   "metadata": {},
   "outputs": [
    {
     "name": "stdout",
     "output_type": "stream",
     "text": [
      "Employee(name=[], salary=5000, department='IT')\n"
     ]
    }
   ],
   "source": [
    " from dataclasses import dataclass,field\n",
    "@dataclass\n",
    "class Employee:\n",
    "    name:list = field(default_factory=list)\n",
    "    salary:float =field(default=5000)\n",
    "    department: str=field(default=\"IT\",repr=True)\n",
    "\n",
    "\n",
    "e1=Employee()\n",
    "print(e1)"
   ]
  },
  {
   "cell_type": "code",
   "execution_count": 6,
   "id": "a5702bff-1464-4f07-83f4-8cd5973d708b",
   "metadata": {},
   "outputs": [
    {
     "name": "stdout",
     "output_type": "stream",
     "text": [
      "this is print module\n",
      "this name of the module is __main__.\n"
     ]
    }
   ],
   "source": [
    "print(\"this is print module\")\n",
    "print(f\"this name of the module is {__name__}.\")"
   ]
  },
  {
   "cell_type": "code",
   "execution_count": 9,
   "id": "06e5b47c-294d-47fd-9659-e5f5a2128e66",
   "metadata": {
    "scrolled": true
   },
   "outputs": [
    {
     "name": "stdout",
     "output_type": "stream",
     "text": [
      "Trying:\n",
      "    act = Account('jay', 100)\n",
      "Expecting nothing\n",
      "ok\n",
      "Trying:\n",
      "    act.name\n",
      "Expecting:\n",
      "    'jay'\n",
      "ok\n",
      "Trying:\n",
      "    act.balance\n",
      "Expecting:\n",
      "    100\n",
      "ok\n",
      "26 items had no tests:\n",
      "    __main__\n",
      "    __main__.Account\n",
      "    __main__.Employee\n",
      "    __main__.Employee.__eq__\n",
      "    __main__.Employee.__init__\n",
      "    __main__.Employee.__repr__\n",
      "    __main__.Person\n",
      "    __main__.Person.__eq__\n",
      "    __main__.Person.__init__\n",
      "    __main__.Person.__repr__\n",
      "    __main__.Point\n",
      "    __main__.Point.__eq__\n",
      "    __main__.Point.__init__\n",
      "    __main__.Point.__repr__\n",
      "    __main__._attempt_import\n",
      "    __main__._check_imported\n",
      "    __main__._jupyterlab_variableinspector_default\n",
      "    __main__._jupyterlab_variableinspector_deletevariable\n",
      "    __main__._jupyterlab_variableinspector_dict_list\n",
      "    __main__._jupyterlab_variableinspector_displaywidget\n",
      "    __main__._jupyterlab_variableinspector_getcontentof\n",
      "    __main__._jupyterlab_variableinspector_getmatrixcontent\n",
      "    __main__._jupyterlab_variableinspector_getshapeof\n",
      "    __main__._jupyterlab_variableinspector_getsizeof\n",
      "    __main__._jupyterlab_variableinspector_is_matrix\n",
      "    __main__._jupyterlab_variableinspector_is_widget\n",
      "1 items passed all tests:\n",
      "   3 tests in __main__.Account.__init__\n",
      "3 tests in 27 items.\n",
      "3 passed and 0 failed.\n",
      "Test passed.\n"
     ]
    }
   ],
   "source": [
    "class Account:\n",
    "    def __init__(self, name, balance):\n",
    "        '''\n",
    "        >>> act = Account('jay', 100)\n",
    "        >>> act.name\n",
    "        'jay'\n",
    "        >>> act.balance\n",
    "        100\n",
    "        '''\n",
    "        self.name = name\n",
    "        self.balance = balance\n",
    "\n",
    "if __name__ == '__main__':\n",
    "    import doctest\n",
    "    doctest.testmod(verbose=True)\n"
   ]
  },
  {
   "cell_type": "code",
   "execution_count": null,
   "id": "bc597783-f03c-4492-8aa6-23c7b473c436",
   "metadata": {},
   "outputs": [],
   "source": [
    "def ad(x,y):\n",
    "    \"\"\"\n",
    "    >>> ad(2,3)\n",
    "    5\n",
    "    >> ad(1,5)\n",
    "    6\n",
    "    \"\"\"\n",
    "    return x+y\n",
    "    "
   ]
  },
  {
   "cell_type": "code",
   "execution_count": 19,
   "id": "6448a2bb-2252-44d9-a174-cbe61701a68e",
   "metadata": {},
   "outputs": [
    {
     "ename": "TypeError",
     "evalue": "__init__() should return None, not 'int'",
     "output_type": "error",
     "traceback": [
      "\u001b[0;31m---------------------------------------------------------------------------\u001b[0m",
      "\u001b[0;31mTypeError\u001b[0m                                 Traceback (most recent call last)",
      "Cell \u001b[0;32mIn[19], line 7\u001b[0m\n\u001b[1;32m      2\u001b[0m     \u001b[38;5;28;01mdef\u001b[39;00m \u001b[38;5;21m__init__\u001b[39m(\u001b[38;5;28mself\u001b[39m):\n\u001b[1;32m      4\u001b[0m         \u001b[38;5;28;01mreturn\u001b[39;00m \u001b[38;5;241m100\u001b[39m\n\u001b[0;32m----> 7\u001b[0m d\u001b[38;5;241m=\u001b[39mDeni()\n\u001b[1;32m      8\u001b[0m \u001b[38;5;28mprint\u001b[39m(d)\n",
      "\u001b[0;31mTypeError\u001b[0m: __init__() should return None, not 'int'"
     ]
    }
   ],
   "source": [
    "class  Deni:\n",
    "    def __init__(self):\n",
    "        \n",
    "        return 100\n",
    "   \n",
    "    \n",
    "d=Deni()\n",
    "print(d)"
   ]
  },
  {
   "cell_type": "code",
   "execution_count": null,
   "id": "b96d6fa6-369a-471a-bafc-2840b99819c1",
   "metadata": {},
   "outputs": [],
   "source": []
  }
 ],
 "metadata": {
  "kernelspec": {
   "display_name": "Python 3 (ipykernel)",
   "language": "python",
   "name": "python3"
  },
  "language_info": {
   "codemirror_mode": {
    "name": "ipython",
    "version": 3
   },
   "file_extension": ".py",
   "mimetype": "text/x-python",
   "name": "python",
   "nbconvert_exporter": "python",
   "pygments_lexer": "ipython3",
   "version": "3.11.7"
  }
 },
 "nbformat": 4,
 "nbformat_minor": 5
}
